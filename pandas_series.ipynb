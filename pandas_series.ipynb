{
 "cells": [
  {
   "cell_type": "code",
   "execution_count": 1,
   "id": "ab87ef69",
   "metadata": {},
   "outputs": [],
   "source": [
    "import numpy as np\n",
    "import pandas as pd\n",
    "import matplotlib.pyplot as plt"
   ]
  },
  {
   "cell_type": "code",
   "execution_count": 2,
   "id": "1d41a592",
   "metadata": {},
   "outputs": [
    {
     "name": "stdout",
     "output_type": "stream",
     "text": [
      "The number of elements in fruits is: 17\n",
      "The fruits index is: RangeIndex(start=0, stop=17, step=1)\n",
      "The values in fruits are: ['kiwi' 'mango' 'strawberry' 'pineapple' 'gala apple' 'honeycrisp apple'\n",
      " 'tomato' 'watermelon' 'honeydew' 'kiwi' 'kiwi' 'kiwi' 'mango' 'blueberry'\n",
      " 'blackberry' 'gooseberry' 'papaya']\n",
      "The values in fruits are type: object\n"
     ]
    }
   ],
   "source": [
    "### EXERCISES - PART 1 ####\n",
    "fruits = pd.Series([\"kiwi\", \"mango\", \"strawberry\", \"pineapple\", \"gala apple\", \"honeycrisp apple\", \"tomato\", \"watermelon\", \"honeydew\", \"kiwi\", \"kiwi\", \"kiwi\", \"mango\", \"blueberry\", \"blackberry\", \"gooseberry\", \"papaya\"])\n",
    "#1\n",
    "print(f'The number of elements in fruits is: {fruits.size}')\n",
    "#2\n",
    "print(f'The fruits index is: {fruits.index}')\n",
    "#3\n",
    "print(f'The values in fruits are: {fruits.values}')\n",
    "#4 - #this only grabs the type of the first value\n",
    "print(f'The values in fruits are type: {fruits.dtype}')"
   ]
  },
  {
   "cell_type": "code",
   "execution_count": 3,
   "id": "7de1563a",
   "metadata": {},
   "outputs": [
    {
     "name": "stdout",
     "output_type": "stream",
     "text": [
      "The first 5 values from fruits are: \n",
      "0          kiwi\n",
      "1         mango\n",
      "2    strawberry\n",
      "3     pineapple\n",
      "4    gala apple\n",
      "dtype: object\n",
      "The last 3 values from fruits are: \n",
      "14    blackberry\n",
      "15    gooseberry\n",
      "16        papaya\n",
      "dtype: object\n",
      "Two random values from fruits are: \n",
      "2     strawberry\n",
      "14    blackberry\n",
      "dtype: object\n",
      "Describing fruits: \n",
      "count       17\n",
      "unique      13\n",
      "top       kiwi\n",
      "freq         4\n",
      "dtype: object\n",
      "Here are the unique values in fruits: \n",
      " ['kiwi' 'mango' 'strawberry' 'pineapple' 'gala apple' 'honeycrisp apple'\n",
      " 'tomato' 'watermelon' 'honeydew' 'blueberry' 'blackberry' 'gooseberry'\n",
      " 'papaya']\n",
      "Count of unique values in fruits:\n",
      "kiwi                4\n",
      "mango               2\n",
      "strawberry          1\n",
      "pineapple           1\n",
      "gala apple          1\n",
      "honeycrisp apple    1\n",
      "tomato              1\n",
      "watermelon          1\n",
      "honeydew            1\n",
      "blueberry           1\n",
      "blackberry          1\n",
      "gooseberry          1\n",
      "papaya              1\n",
      "dtype: int64\n",
      "The most common value in fruits is: kiwi    4\n",
      "dtype: int64\n",
      "The least common value in fruits is: \n",
      "strawberry          1\n",
      "pineapple           1\n",
      "gala apple          1\n",
      "honeycrisp apple    1\n",
      "tomato              1\n",
      "watermelon          1\n",
      "honeydew            1\n",
      "blueberry           1\n",
      "blackberry          1\n",
      "gooseberry          1\n",
      "papaya              1\n",
      "dtype: int64\n"
     ]
    }
   ],
   "source": [
    "#5\n",
    "print(f'The first 5 values from fruits are: \\n{fruits.head()}')\n",
    "print(f'The last 3 values from fruits are: \\n{fruits.tail(3)}')\n",
    "print(f'Two random values from fruits are: \\n{fruits.sample(2)}')\n",
    "#6 describe\n",
    "print(f'Describing fruits: \\n{fruits.describe()}')\n",
    "#7\n",
    "print(f'Here are the unique values in fruits: \\n {fruits.unique()}')\n",
    "#8\n",
    "print(f'Count of unique values in fruits:\\n{fruits.value_counts()}')\n",
    "#9 most frequent\n",
    "print(f'The most common value in fruits is: {fruits.value_counts().nlargest(n=1,keep=\"all\")}')\n",
    "#or:\n",
    "fruits.mode() #doesn't provide count\n",
    "#10\n",
    "print(f'The least common value in fruits is: \\n{fruits.value_counts().nsmallest(n=1,keep=\"all\")}')"
   ]
  },
  {
   "cell_type": "code",
   "execution_count": 4,
   "id": "7a9e6992",
   "metadata": {},
   "outputs": [
    {
     "name": "stdout",
     "output_type": "stream",
     "text": [
      "There are 49 vowels in this series\n"
     ]
    },
    {
     "data": {
      "text/plain": [
       "0     2\n",
       "1     2\n",
       "2     2\n",
       "3     4\n",
       "4     4\n",
       "5     5\n",
       "6     3\n",
       "7     4\n",
       "8     3\n",
       "9     2\n",
       "10    2\n",
       "11    2\n",
       "12    2\n",
       "13    3\n",
       "14    2\n",
       "15    4\n",
       "16    3\n",
       "dtype: int64"
      ]
     },
     "execution_count": 4,
     "metadata": {},
     "output_type": "execute_result"
    }
   ],
   "source": [
    "### EXERCISES - PART 2 ####\n",
    "#1 - capitalize\n",
    "fruits.str.upper()\n"
   ]
  },
  {
   "cell_type": "code",
   "execution_count": null,
   "id": "3653731d",
   "metadata": {},
   "outputs": [],
   "source": [
    "#2 Count the letter 'a'\n",
    "  #make sure lowercase, then count 'a' in each element, \n",
    "  #this creates new series with count of each >>> then take sume of that series\n",
    "sum(fruits.str.lower().str.count('a'))\n"
   ]
  },
  {
   "cell_type": "code",
   "execution_count": null,
   "id": "6cf58cf3",
   "metadata": {},
   "outputs": [],
   "source": [
    "#3\n",
    "vowels = list('aeiou')\n",
    "count = 0\n",
    "for i in vowels:\n",
    "    count += sum(fruits.str.lower().str.count(i))\n",
    "print(f'There are {count} vowels in this series')\n",
    "#3 - alt\n",
    "#concate whole series into one string, then pull out vowels and determine length\n",
    "len([x for x in fruits.str.cat() if x in vowels])\n",
    "#3 - alt\n",
    " #applying a vowel function\n",
    "def count_vowels(val):\n",
    "    cnt = 0\n",
    "    vowels = list('aeiou')\n",
    "    for i in val.lower():\n",
    "        if i in vowels: cnt += 1\n",
    "    return cnt\n",
    "  #if we want number of vowels per element\n",
    "fruits.apply(count_vowels)\n",
    "  #if we want number of vowels in the whole series\n",
    "sum(fruits.apply(count_vowels))\n",
    "#3 - final \n",
    "#Even better, it does regex!\n",
    "fruits.str.count('[aeiou]')"
   ]
  },
  {
   "cell_type": "code",
   "execution_count": 5,
   "id": "c06f39f2",
   "metadata": {},
   "outputs": [
    {
     "data": {
      "text/plain": [
       "'honeycrisp apple'"
      ]
     },
     "execution_count": 5,
     "metadata": {},
     "output_type": "execute_result"
    }
   ],
   "source": [
    "#4 longest string\n",
    "#ew, but works\n",
    "fruits[fruits.str.len() == fruits.str.len().max()]\n",
    "#YAY - I knew there'd be an index equivalent!\n",
    "fruits[fruits.str.len().idxmax()]\n"
   ]
  },
  {
   "cell_type": "code",
   "execution_count": null,
   "id": "52c22b42",
   "metadata": {},
   "outputs": [],
   "source": [
    "#5\n",
    "fruits[fruits.str.len() >= 5]\n"
   ]
  },
  {
   "cell_type": "code",
   "execution_count": null,
   "id": "e5849e97",
   "metadata": {},
   "outputs": [],
   "source": [
    "#6\n",
    "fruits[fruits.apply(lambda n: True if n.count('o') >= 2 else False)]\n"
   ]
  },
  {
   "cell_type": "code",
   "execution_count": null,
   "id": "bb99b93d",
   "metadata": {},
   "outputs": [],
   "source": [
    "#7 \n",
    "fruits[fruits.str.contains('berry')].values"
   ]
  },
  {
   "cell_type": "code",
   "execution_count": null,
   "id": "034b582b",
   "metadata": {},
   "outputs": [],
   "source": [
    "#8 \n",
    "fruits[fruits.str.contains('apple')].values"
   ]
  },
  {
   "cell_type": "code",
   "execution_count": null,
   "id": "73f44bc5",
   "metadata": {},
   "outputs": [],
   "source": [
    "#9\n",
    "fruits[fruits.apply(count_vowels).idxmax()]"
   ]
  },
  {
   "cell_type": "code",
   "execution_count": 6,
   "id": "769d0291",
   "metadata": {},
   "outputs": [
    {
     "name": "stdout",
     "output_type": "stream",
     "text": [
      "l    4\n",
      "dtype: int64\n"
     ]
    }
   ],
   "source": [
    "### EXERCISES - PART 3 ####\n",
    "alp = pd.Series(list('hnvidduckkqxwymbimkccexbkmqygkxoyndmcxnwqarhyffsjpsrabtjzsypmzadfavyrnndndvswreauxovncxtwzpwejilzjrmmbbgbyxvjtewqthafnbkqplarokkyydtubbmnexoypulzwfhqvckdpqtpoppzqrmcvhhpwgjwupgzhiofohawytlsiyecuproguy'))\n",
    "#1 - most freq letter\n",
    "alp.value_counts().nlargest(n=1,keep='all') #y 13"
   ]
  },
  {
   "cell_type": "code",
   "execution_count": null,
   "id": "5a13ca78",
   "metadata": {},
   "outputs": [],
   "source": [
    "#2 - least freq letter\n",
    "print(alp.value_counts().nsmallest(n=1,keep='all')) #l 4"
   ]
  },
  {
   "cell_type": "code",
   "execution_count": 35,
   "id": "c4a9f816",
   "metadata": {},
   "outputs": [
    {
     "data": {
      "text/plain": [
       "34"
      ]
     },
     "execution_count": 35,
     "metadata": {},
     "output_type": "execute_result"
    }
   ],
   "source": [
    "#3 how many vowels\n",
    "  #This will get a 0 or 1 for each, then just take the sum of the whole series\n",
    "sum(alp.apply(count_vowels)) #34\n",
    "#better\n",
    "alp.str.count('[aeiou]').sum()"
   ]
  },
  {
   "cell_type": "code",
   "execution_count": 36,
   "id": "ba5c5ce8",
   "metadata": {},
   "outputs": [
    {
     "data": {
      "text/plain": [
       "166"
      ]
     },
     "execution_count": 36,
     "metadata": {},
     "output_type": "execute_result"
    }
   ],
   "source": [
    "#4 how many consonants\n",
    "  #this works because there is one char per element\n",
    "alp.size-sum(alp.apply(count_vowels)) #166\n",
    "alp.str.count('[^aeiou]').sum()"
   ]
  },
  {
   "cell_type": "code",
   "execution_count": null,
   "id": "fdfcbb96",
   "metadata": {},
   "outputs": [],
   "source": [
    "#5 uppercase them\n",
    "alp_up = alp.str.upper()"
   ]
  },
  {
   "cell_type": "code",
   "execution_count": 37,
   "id": "41e0c644",
   "metadata": {},
   "outputs": [
    {
     "data": {
      "text/plain": [
       "<AxesSubplot:>"
      ]
     },
     "execution_count": 37,
     "metadata": {},
     "output_type": "execute_result"
    },
    {
     "data": {
      "image/png": "[encoded data removed]",
      "text/plain": [
       "<Figure size 432x288 with 1 Axes>"
      ]
     },
     "metadata": {
      "needs_background": "light"
     },
     "output_type": "display_data"
    }
   ],
   "source": [
    "#6 bar plot of the frequencies of 6 most common letters\n",
    "alp.value_counts().sort_values(ascending=False)[0:6].plot.bar()\n",
    "#sort values isn't actually necessary, it does this during value_counts"
   ]
  },
  {
   "cell_type": "code",
   "execution_count": 10,
   "id": "2128fddd",
   "metadata": {},
   "outputs": [
    {
     "data": {
      "text/plain": [
       "<AxesSubplot:>"
      ]
     },
     "execution_count": 10,
     "metadata": {},
     "output_type": "execute_result"
    },
    {
     "data": {
      "image/png": "[encoded data removed]",
      "text/plain": [
       "<Figure size 432x288 with 1 Axes>"
      ]
     },
     "metadata": {
      "needs_background": "light"
     },
     "output_type": "display_data"
    }
   ],
   "source": [
    "#alt 6\n",
    "alp.value_counts().nlargest(n=6,keep='all').plot.bar()"
   ]
  },
  {
   "cell_type": "code",
   "execution_count": 38,
   "id": "a688f73d",
   "metadata": {},
   "outputs": [
    {
     "data": {
      "text/plain": [
       "dtype('O')"
      ]
     },
     "execution_count": 38,
     "metadata": {},
     "output_type": "execute_result"
    }
   ],
   "source": [
    "#PART 3, SECTION 2\n",
    "numb = pd.Series(['$796,459.41', '$278.60', '$482,571.67', '$4,503,915.98', '$2,121,418.3', '$1,260,813.3', '$87,231.01', '$1,509,175.45', '$4,138,548.00', '$2,848,913.80', '$594,715.39', '$4,789,988.17', '$4,513,644.5', '$3,191,059.97', '$1,758,712.24', '$4,338,283.54', '$4,738,303.38', '$2,791,759.67', '$769,681.94', '$452,650.23'])\n",
    "#1 \n",
    "numb.dtype #other"
   ]
  },
  {
   "cell_type": "code",
   "execution_count": 39,
   "id": "96150a20",
   "metadata": {},
   "outputs": [
    {
     "data": {
      "text/plain": [
       "20"
      ]
     },
     "execution_count": 39,
     "metadata": {},
     "output_type": "execute_result"
    }
   ],
   "source": [
    "#2 how many elements:\n",
    "numb.size #20"
   ]
  },
  {
   "cell_type": "code",
   "execution_count": 45,
   "id": "2db07402",
   "metadata": {},
   "outputs": [
    {
     "data": {
      "text/plain": [
       "0     796459.41\n",
       "1        278.60\n",
       "2     482571.67\n",
       "3    4503915.98\n",
       "4    2121418.30\n",
       "dtype: float64"
      ]
     },
     "execution_count": 45,
     "metadata": {},
     "output_type": "execute_result"
    }
   ],
   "source": [
    "#3\n",
    "#numb.str.removeprefix('\\$') #This isn't in my version of pandas\n",
    "#replace $ and , with nothing, then convert to float\n",
    "numb_fl = numb.str.replace('$','',regex=False).str.replace(',','',regex=False).astype(float)\n",
    "#better - Regex is cool!\n",
    "numb_fl = numb.str.replace('[$,]','',regex=True).astype(float)\n",
    "numb_fl.head()"
   ]
  },
  {
   "cell_type": "code",
   "execution_count": 46,
   "id": "86897028",
   "metadata": {},
   "outputs": [
    {
     "name": "stdout",
     "output_type": "stream",
     "text": [
      "The max is: 4789988.17\n",
      "The min is: 278.6\n",
      "The range is: 4789709.57\n",
      "(-4511.111, 1197705.993]      7\n",
      "(3592560.778, 4789988.17]     6\n",
      "(1197705.993, 2395133.385]    4\n",
      "(2395133.385, 3592560.778]    3\n",
      "dtype: int64\n"
     ]
    }
   ],
   "source": [
    "#4\n",
    "print(f'The max is: {max(numb_fl)}') #4789988.17\n",
    "#5\n",
    "print(f'The min is: {min(numb_fl)}') #278.6\n",
    "#6\n",
    "print(f'The range is: {max(numb_fl)-min(numb_fl)}') #range is 4789709.57\n",
    "#7\n",
    "print(numb_fl.value_counts(bins=4))"
   ]
  },
  {
   "cell_type": "code",
   "execution_count": 12,
   "id": "f8a4d17b",
   "metadata": {},
   "outputs": [
    {
     "data": {
      "text/plain": [
       "<AxesSubplot:title={'center':'Frequency of values per bin'}, xlabel='Bins', ylabel='Frequency'>"
      ]
     },
     "execution_count": 12,
     "metadata": {},
     "output_type": "execute_result"
    },
    {
     "data": {
      "image/png": "[encoded data removed]",
      "text/plain": [
       "<Figure size 432x288 with 1 Axes>"
      ]
     },
     "metadata": {
      "needs_background": "light"
     },
     "output_type": "display_data"
    }
   ],
   "source": [
    "numb_fl.value_counts(bins=4).plot.bar(xlabel='Bins',ylabel='Frequency',title='Frequency of values per bin')"
   ]
  },
  {
   "cell_type": "code",
   "execution_count": 13,
   "id": "a330566c",
   "metadata": {},
   "outputs": [
    {
     "name": "stdout",
     "output_type": "stream",
     "text": [
      "There are 20 elements in the series\n",
      "count    20.000000\n",
      "mean     78.150000\n",
      "std      11.352139\n",
      "min      60.000000\n",
      "25%      70.500000\n",
      "50%      79.000000\n",
      "75%      85.250000\n",
      "max      96.000000\n",
      "dtype: float64\n"
     ]
    }
   ],
   "source": [
    "#PART 3, SECTION 3\n",
    "exam_scores = pd.Series([60, 86, 75, 62, 93, 71, 60, 83, 95, 78, 65, 72, 69, 81, 96, 80, 85, 92, 82, 78])\n",
    "#1\n",
    "print(f'There are {exam_scores.size} elements in the series')\n",
    "#2\n",
    "print(exam_scores.describe())"
   ]
  },
  {
   "cell_type": "code",
   "execution_count": 53,
   "id": "0c9def9b",
   "metadata": {},
   "outputs": [
    {
     "data": {
      "image/png": "[encoded data removed]",
      "text/plain": [
       "<Figure size 432x288 with 1 Axes>"
      ]
     },
     "metadata": {
      "needs_background": "light"
     },
     "output_type": "display_data"
    }
   ],
   "source": [
    "#3\n",
    "exam_scores.plot.hist(bins=8,yticks=range(0,5),range=(60,100),xlim=(60,100),title='Distribution of exam scores',ylabel='number of students',xlabel='exam score',edgecolor='black',zorder=2)\n",
    "plt.grid()\n"
   ]
  },
  {
   "cell_type": "code",
   "execution_count": 54,
   "id": "4b85aec1",
   "metadata": {},
   "outputs": [
    {
     "name": "stdout",
     "output_type": "stream",
     "text": [
      "count     20.000000\n",
      "mean      82.150000\n",
      "std       11.352139\n",
      "min       64.000000\n",
      "25%       74.500000\n",
      "50%       83.000000\n",
      "75%       89.250000\n",
      "max      100.000000\n",
      "dtype: float64\n"
     ]
    }
   ],
   "source": [
    "#4\n",
    "curve = 100 - exam_scores.max()\n",
    "curved_grades = exam_scores + curve\n",
    "print(curved_grades.describe())\n"
   ]
  },
  {
   "cell_type": "code",
   "execution_count": 16,
   "id": "22f04726",
   "metadata": {},
   "outputs": [
    {
     "name": "stdout",
     "output_type": "stream",
     "text": [
      "0     D\n",
      "1     A\n",
      "2     C\n",
      "3     D\n",
      "4     A\n",
      "5     C\n",
      "6     D\n",
      "7     B\n",
      "8     A\n",
      "9     B\n",
      "10    D\n",
      "11    C\n",
      "12    C\n",
      "13    B\n",
      "14    A\n",
      "15    B\n",
      "16    B\n",
      "17    A\n",
      "18    B\n",
      "19    B\n",
      "dtype: object\n"
     ]
    }
   ],
   "source": [
    "#5 replace number grade with letter grade\n",
    "def get_letter_grade(val):\n",
    "    if val >= 90: \n",
    "        grade = 'A'\n",
    "    elif val >= 80:\n",
    "        grade = 'B'\n",
    "    elif val >= 70:\n",
    "        grade = 'C'\n",
    "    elif val >= 60:\n",
    "        grade = 'D'\n",
    "    else:\n",
    "        grade = 'F'\n",
    "    return grade\n",
    "\n",
    "letter_grade = curved_grades.apply(get_letter_grade)\n",
    "print(letter_grade)"
   ]
  },
  {
   "cell_type": "code",
   "execution_count": 59,
   "id": "8326a580",
   "metadata": {},
   "outputs": [
    {
     "data": {
      "text/plain": [
       "0     D\n",
       "1     A\n",
       "2     C\n",
       "3     D\n",
       "4     A\n",
       "5     C\n",
       "6     D\n",
       "7     B\n",
       "8     A\n",
       "9     B\n",
       "10    D\n",
       "11    C\n",
       "12    C\n",
       "13    B\n",
       "14    A\n",
       "15    B\n",
       "16    B\n",
       "17    A\n",
       "18    B\n",
       "19    B\n",
       "dtype: category\n",
       "Categories (5, object): ['F' < 'D' < 'C' < 'B' < 'A']"
      ]
     },
     "execution_count": 59,
     "metadata": {},
     "output_type": "execute_result"
    }
   ],
   "source": [
    "#5 alt - better assignment and seeems\n",
    "b = [0,59,69,79,89,100]\n",
    "lbl = ['F','D','C','B','A']\n",
    "pd.cut(curved_grades,bins=b,labels=lbl)"
   ]
  },
  {
   "cell_type": "code",
   "execution_count": 17,
   "id": "332daf4c",
   "metadata": {},
   "outputs": [
    {
     "data": {
      "text/plain": [
       "<AxesSubplot:>"
      ]
     },
     "execution_count": 17,
     "metadata": {},
     "output_type": "execute_result"
    },
    {
     "data": {
      "image/png": "[encoded data removed]",
      "text/plain": [
       "<Figure size 432x288 with 1 Axes>"
      ]
     },
     "metadata": {
      "needs_background": "light"
     },
     "output_type": "display_data"
    }
   ],
   "source": [
    "#6\n",
    "letter_grade.value_counts().sort_index(ascending=False).plot.barh()"
   ]
  },
  {
   "cell_type": "markdown",
   "id": "cf60aeb0",
   "metadata": {},
   "source": [
    "###More Practice\n",
    "Solve problemse using pandas Series instead of List comprehension"
   ]
  },
  {
   "cell_type": "code",
   "execution_count": 18,
   "id": "eeb88a04",
   "metadata": {},
   "outputs": [],
   "source": [
    "fruits = ['mango', 'kiwi', 'strawberry', 'guava', 'pineapple', 'mandarin orange']\n",
    "\n",
    "numbers = [2, 3, 4, 5, 6, 7, 8, 9, 10, 11, 13, 17, 19, 23, 256, -8, -4, -2, 5, -9]"
   ]
  },
  {
   "cell_type": "code",
   "execution_count": 19,
   "id": "a06db509",
   "metadata": {},
   "outputs": [],
   "source": [
    "# Exercise 1 - rewrite the above example code using list comprehension syntax. Make a variable named uppercased_fruits to hold the output of the list comprehension. Output should be ['MANGO', 'KIWI', etc...]\n",
    "\n"
   ]
  },
  {
   "cell_type": "code",
   "execution_count": 20,
   "id": "05b5e23c",
   "metadata": {},
   "outputs": [],
   "source": [
    "# Exercise 2 - create a variable named capitalized_fruits and use list comprehension syntax to produce output like ['Mango', 'Kiwi', 'Strawberry', etc...]\n",
    "\n"
   ]
  },
  {
   "cell_type": "code",
   "execution_count": 21,
   "id": "ba74e8fd",
   "metadata": {},
   "outputs": [],
   "source": [
    "# Exercise 3 - Use a list comprehension to make a variable named fruits_with_more_than_two_vowels. Hint: You'll need a way to check if something is a vowel.\n",
    "\n"
   ]
  },
  {
   "cell_type": "code",
   "execution_count": 22,
   "id": "16eb7456",
   "metadata": {},
   "outputs": [],
   "source": [
    "# Exercise 4 - make a variable named fruits_with_only_two_vowels. The result should be ['mango', 'kiwi', 'strawberry']\n",
    "\n"
   ]
  },
  {
   "cell_type": "code",
   "execution_count": 23,
   "id": "eb8a1ece",
   "metadata": {},
   "outputs": [],
   "source": [
    "\n",
    "# Exercise 5 - make a list that contains each fruit with more than 5 characters\n"
   ]
  },
  {
   "cell_type": "code",
   "execution_count": 24,
   "id": "961d4d42",
   "metadata": {},
   "outputs": [],
   "source": [
    "# Exercise 6 - make a list that contains each fruit with exactly 5 characters\n",
    "\n",
    "\n"
   ]
  },
  {
   "cell_type": "code",
   "execution_count": 25,
   "id": "18d361aa",
   "metadata": {},
   "outputs": [],
   "source": [
    "# Exercise 7 - Make a list that contains fruits that have less than 5 characters\n",
    "\n"
   ]
  },
  {
   "cell_type": "code",
   "execution_count": 26,
   "id": "44668cb5",
   "metadata": {},
   "outputs": [],
   "source": [
    "# Exercise 8 - Make a list containing the number of characters in each fruit. Output would be [5, 4, 10, etc... ]\n",
    "\n"
   ]
  },
  {
   "cell_type": "code",
   "execution_count": 27,
   "id": "afce5d06",
   "metadata": {},
   "outputs": [],
   "source": [
    "# Exercise 9 - Make a variable named fruits_with_letter_a that contains a list of only the fruits that contain the letter \"a\"\n",
    "\n"
   ]
  },
  {
   "cell_type": "code",
   "execution_count": 28,
   "id": "ace6bf76",
   "metadata": {},
   "outputs": [],
   "source": [
    "# Exercise 10 - Make a variable named even_numbers that holds only the even numbers \n"
   ]
  },
  {
   "cell_type": "code",
   "execution_count": 29,
   "id": "f6f47bb2",
   "metadata": {},
   "outputs": [],
   "source": [
    "# Exercise 11 - Make a variable named odd_numbers that holds only the odd numbers\n",
    "\n"
   ]
  },
  {
   "cell_type": "code",
   "execution_count": 30,
   "id": "c7d7af9c",
   "metadata": {},
   "outputs": [],
   "source": [
    "# Exercise 12 - Make a variable named positive_numbers that holds only the positive numbers\n",
    "\n"
   ]
  },
  {
   "cell_type": "code",
   "execution_count": 31,
   "id": "d9b6b7af",
   "metadata": {},
   "outputs": [],
   "source": [
    "# Exercise 13 - Make a variable named negative_numbers that holds only the negative numbers\n",
    "\n",
    "# Exercise 14 - use a list comprehension w/ a conditional in order to produce a list of numbers with 2 or more numerals\n",
    "\n",
    "# Exercise 15 - Make a variable named numbers_squared that contains the numbers list with each element squared. Output is [4, 9, 16, etc...]\n",
    "\n",
    "# Exercise 16 - Make a variable named odd_negative_numbers that contains only the numbers that are both odd and negative.\n",
    "\n",
    "# Exercise 17 - Make a variable named numbers_plus_5. In it, return a list containing each number plus five. \n",
    "\n",
    "# BONUS Make a variable named \"primes\" that is a list containing the prime numbers in the numbers list. *Hint* you may want to make or find a helper function that determines if a given number is prime or not.\n"
   ]
  }
 ],
 "metadata": {
  "jupytext": {
   "cell_metadata_filter": "-all",
   "main_language": "python",
   "notebook_metadata_filter": "-all"
  },
  "kernelspec": {
   "display_name": "Python 3 (ipykernel)",
   "language": "python",
   "name": "python3"
  },
  "language_info": {
   "codemirror_mode": {
    "name": "ipython",
    "version": 3
   },
   "file_extension": ".py",
   "mimetype": "text/x-python",
   "name": "python",
   "nbconvert_exporter": "python",
   "pygments_lexer": "ipython3",
   "version": "3.9.7"
  }
 },
 "nbformat": 4,
 "nbformat_minor": 5
}
