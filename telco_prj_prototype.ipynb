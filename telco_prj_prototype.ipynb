{
 "cells": [
  {
   "cell_type": "markdown",
   "id": "8f21e985",
   "metadata": {},
   "source": [
    "#Import the Telco dataset (from the spreadsheet - we are using a cleaned version of the data)"
   ]
  },
  {
   "cell_type": "code",
   "execution_count": 49,
   "id": "750c29c4",
   "metadata": {},
   "outputs": [],
   "source": [
    "import numpy as np\n",
    "import pandas as pd\n",
    "import seaborn as sns\n",
    "import matplotlib.pyplot as plt\n",
    "import math"
   ]
  },
  {
   "cell_type": "code",
   "execution_count": 2,
   "id": "bb9ea851",
   "metadata": {},
   "outputs": [],
   "source": [
    "df = pd.read_csv(\"Telco_plus.csv\")\n"
   ]
  },
  {
   "cell_type": "code",
   "execution_count": 3,
   "id": "791fa37a",
   "metadata": {},
   "outputs": [
    {
     "data": {
      "text/plain": [
       "(7049, 13)"
      ]
     },
     "execution_count": 3,
     "metadata": {},
     "output_type": "execute_result"
    }
   ],
   "source": [
    "#CSV has 7050 rows and M(13)columns\n",
    "df.shape\n",
    "#matches what I expected"
   ]
  },
  {
   "cell_type": "markdown",
   "id": "80f4f7a0",
   "metadata": {},
   "source": [
    "### Step 1 - Goals and Stuff\n",
    "Primary Goal: Understand why customers churn and identify actions to minimize churn"
   ]
  },
  {
   "cell_type": "code",
   "execution_count": 4,
   "id": "3ff832bb",
   "metadata": {},
   "outputs": [
    {
     "name": "stdout",
     "output_type": "stream",
     "text": [
      "<class 'pandas.core.frame.DataFrame'>\n",
      "RangeIndex: 7049 entries, 0 to 7048\n",
      "Data columns (total 13 columns):\n",
      " #   Column             Non-Null Count  Dtype  \n",
      "---  ------             --------------  -----  \n",
      " 0   customer_id        7049 non-null   object \n",
      " 1   gender             7049 non-null   object \n",
      " 2   is_senior_citizen  7049 non-null   int64  \n",
      " 3   partner            7049 non-null   object \n",
      " 4   dependents         7049 non-null   object \n",
      " 5   phone_service      7049 non-null   int64  \n",
      " 6   internet_service   7049 non-null   int64  \n",
      " 7   contract_type      7049 non-null   int64  \n",
      " 8   payment_type       7049 non-null   object \n",
      " 9   monthly_charges    7049 non-null   float64\n",
      " 10  total_charges      7038 non-null   float64\n",
      " 11  churn              7049 non-null   object \n",
      " 12  tenure             7049 non-null   float64\n",
      "dtypes: float64(3), int64(4), object(6)\n",
      "memory usage: 716.0+ KB\n"
     ]
    }
   ],
   "source": [
    "df.info()"
   ]
  },
  {
   "cell_type": "markdown",
   "id": "84547bf4",
   "metadata": {},
   "source": [
    "#### Target variable is 'churn'\n",
    "\n",
    "#### Initial Hypothesis:\n",
    "* Churn rate will be higher for new customers\n",
    "* Churn rate will be lower for customers with a larger number of partners and dependents (or a larger number of phone lines)\n",
    "* Churn rate will be higher for month-to-month customers\n",
    "\n",
    "#### MVP:\n",
    "* Basic:\n",
    "  * What is our churn rate and how does it compare to industry average?\n",
    "  * Look at how each of these affect churn: monthly charges, contract type, gender, tenure\n",
    "  * Identify one or two factors that correlate to a higher churn rate\n",
    "* Advanced:\n",
    "  * Analyze a combination of 2 attributes that inflence churn rate\n",
    "  * Create 2-5 charts to visualize churn rate \n",
    "  * Identify discrete actions to help reduce churn rate\n",
    "\n",
    "#### Miscellaneous details:\n",
    "* Metadata: https://www.kaggle.com/datasets/blastchar/telco-customer-churn\n",
    "  * Churn is customers who left in the last month\n",
    "* Telecom monthly churn rate is approximately 1.2 to 3%\n",
    "  * http://www.dbmarketing.com/telecom/churnreduction.html\n",
    "  * https://www.statista.com/statistics/283511/average-monthly-churn-rate-top-wireless-carriers-us/\n"
   ]
  },
  {
   "cell_type": "markdown",
   "id": "49b7bb74",
   "metadata": {},
   "source": [
    "### Step 2 - Getting to know the data - High Level"
   ]
  },
  {
   "cell_type": "code",
   "execution_count": 20,
   "id": "fdf2149c",
   "metadata": {},
   "outputs": [
    {
     "name": "stdout",
     "output_type": "stream",
     "text": [
      "The monthly churn rate is 26.53%\n"
     ]
    },
    {
     "data": {
      "image/png": "[encoded data removed]",
      "text/plain": [
       "<Figure size 432x288 with 1 Axes>"
      ]
     },
     "metadata": {
      "needs_background": "light"
     },
     "output_type": "display_data"
    }
   ],
   "source": [
    "#Get a basic idea of churn.  ~2.5x more customers stayed than churned\n",
    "sns.histplot(data=df,x='churn')\n",
    "#get an actual churn rate\n",
    "ch_rate = (df[df.churn=='Yes'].shape[0]/df.shape[0])\n",
    "print(f'The monthly churn rate is {round(ch_rate*100,2)}%')"
   ]
  },
  {
   "cell_type": "code",
   "execution_count": 18,
   "id": "9098898f",
   "metadata": {},
   "outputs": [
    {
     "data": {
      "text/plain": [
       "26.529999999999998"
      ]
     },
     "execution_count": 18,
     "metadata": {},
     "output_type": "execute_result"
    }
   ],
   "source": [
    "#This churn rate is significantly higher than average."
   ]
  },
  {
   "cell_type": "code",
   "execution_count": 14,
   "id": "5c1b8fd0",
   "metadata": {},
   "outputs": [
    {
     "data": {
      "text/html": [
       "<div>\n",
       "<style scoped>\n",
       "    .dataframe tbody tr th:only-of-type {\n",
       "        vertical-align: middle;\n",
       "    }\n",
       "\n",
       "    .dataframe tbody tr th {\n",
       "        vertical-align: top;\n",
       "    }\n",
       "\n",
       "    .dataframe thead th {\n",
       "        text-align: right;\n",
       "    }\n",
       "</style>\n",
       "<table border=\"1\" class=\"dataframe\">\n",
       "  <thead>\n",
       "    <tr style=\"text-align: right;\">\n",
       "      <th></th>\n",
       "      <th>customer_id</th>\n",
       "      <th>gender</th>\n",
       "      <th>is_senior_citizen</th>\n",
       "      <th>partner</th>\n",
       "      <th>dependents</th>\n",
       "      <th>phone_service</th>\n",
       "      <th>internet_service</th>\n",
       "      <th>contract_type</th>\n",
       "      <th>payment_type</th>\n",
       "      <th>monthly_charges</th>\n",
       "      <th>total_charges</th>\n",
       "      <th>churn</th>\n",
       "      <th>tenure</th>\n",
       "    </tr>\n",
       "  </thead>\n",
       "  <tbody>\n",
       "    <tr>\n",
       "      <th>0</th>\n",
       "      <td>0002-ORFBO</td>\n",
       "      <td>Female</td>\n",
       "      <td>0</td>\n",
       "      <td>Yes</td>\n",
       "      <td>Yes</td>\n",
       "      <td>1</td>\n",
       "      <td>1</td>\n",
       "      <td>1</td>\n",
       "      <td>Mailed check</td>\n",
       "      <td>65.6</td>\n",
       "      <td>593.30</td>\n",
       "      <td>No</td>\n",
       "      <td>9.0</td>\n",
       "    </tr>\n",
       "    <tr>\n",
       "      <th>1</th>\n",
       "      <td>0003-MKNFE</td>\n",
       "      <td>Male</td>\n",
       "      <td>0</td>\n",
       "      <td>No</td>\n",
       "      <td>No</td>\n",
       "      <td>2</td>\n",
       "      <td>1</td>\n",
       "      <td>0</td>\n",
       "      <td>Mailed check</td>\n",
       "      <td>59.9</td>\n",
       "      <td>542.40</td>\n",
       "      <td>No</td>\n",
       "      <td>9.1</td>\n",
       "    </tr>\n",
       "    <tr>\n",
       "      <th>2</th>\n",
       "      <td>0004-TLHLJ</td>\n",
       "      <td>Male</td>\n",
       "      <td>0</td>\n",
       "      <td>No</td>\n",
       "      <td>No</td>\n",
       "      <td>1</td>\n",
       "      <td>2</td>\n",
       "      <td>0</td>\n",
       "      <td>Electronic check</td>\n",
       "      <td>73.9</td>\n",
       "      <td>280.85</td>\n",
       "      <td>Yes</td>\n",
       "      <td>3.8</td>\n",
       "    </tr>\n",
       "    <tr>\n",
       "      <th>3</th>\n",
       "      <td>0011-IGKFF</td>\n",
       "      <td>Male</td>\n",
       "      <td>1</td>\n",
       "      <td>Yes</td>\n",
       "      <td>No</td>\n",
       "      <td>1</td>\n",
       "      <td>2</td>\n",
       "      <td>0</td>\n",
       "      <td>Electronic check</td>\n",
       "      <td>98.0</td>\n",
       "      <td>1237.85</td>\n",
       "      <td>Yes</td>\n",
       "      <td>12.6</td>\n",
       "    </tr>\n",
       "    <tr>\n",
       "      <th>4</th>\n",
       "      <td>0013-EXCHZ</td>\n",
       "      <td>Female</td>\n",
       "      <td>1</td>\n",
       "      <td>Yes</td>\n",
       "      <td>No</td>\n",
       "      <td>1</td>\n",
       "      <td>2</td>\n",
       "      <td>0</td>\n",
       "      <td>Mailed check</td>\n",
       "      <td>83.9</td>\n",
       "      <td>267.40</td>\n",
       "      <td>Yes</td>\n",
       "      <td>3.2</td>\n",
       "    </tr>\n",
       "  </tbody>\n",
       "</table>\n",
       "</div>"
      ],
      "text/plain": [
       "  customer_id  gender  is_senior_citizen partner dependents  phone_service  \\\n",
       "0  0002-ORFBO  Female                  0     Yes        Yes              1   \n",
       "1  0003-MKNFE    Male                  0      No         No              2   \n",
       "2  0004-TLHLJ    Male                  0      No         No              1   \n",
       "3  0011-IGKFF    Male                  1     Yes         No              1   \n",
       "4  0013-EXCHZ  Female                  1     Yes         No              1   \n",
       "\n",
       "   internet_service  contract_type      payment_type  monthly_charges  \\\n",
       "0                 1              1      Mailed check             65.6   \n",
       "1                 1              0      Mailed check             59.9   \n",
       "2                 2              0  Electronic check             73.9   \n",
       "3                 2              0  Electronic check             98.0   \n",
       "4                 2              0      Mailed check             83.9   \n",
       "\n",
       "   total_charges churn  tenure  \n",
       "0         593.30    No     9.0  \n",
       "1         542.40    No     9.1  \n",
       "2         280.85   Yes     3.8  \n",
       "3        1237.85   Yes    12.6  \n",
       "4         267.40   Yes     3.2  "
      ]
     },
     "execution_count": 14,
     "metadata": {},
     "output_type": "execute_result"
    }
   ],
   "source": [
    "df.head()\n",
    "#already know I want to look at gender, tenure, partner/dependents, contract type and monthly charges"
   ]
  },
  {
   "cell_type": "code",
   "execution_count": 21,
   "id": "5b82301f",
   "metadata": {},
   "outputs": [
    {
     "name": "stdout",
     "output_type": "stream",
     "text": [
      "<class 'pandas.core.frame.DataFrame'>\n",
      "RangeIndex: 7049 entries, 0 to 7048\n",
      "Data columns (total 13 columns):\n",
      " #   Column             Non-Null Count  Dtype  \n",
      "---  ------             --------------  -----  \n",
      " 0   customer_id        7049 non-null   object \n",
      " 1   gender             7049 non-null   object \n",
      " 2   is_senior_citizen  7049 non-null   int64  \n",
      " 3   partner            7049 non-null   object \n",
      " 4   dependents         7049 non-null   object \n",
      " 5   phone_service      7049 non-null   int64  \n",
      " 6   internet_service   7049 non-null   int64  \n",
      " 7   contract_type      7049 non-null   int64  \n",
      " 8   payment_type       7049 non-null   object \n",
      " 9   monthly_charges    7049 non-null   float64\n",
      " 10  total_charges      7038 non-null   float64\n",
      " 11  churn              7049 non-null   object \n",
      " 12  tenure             7049 non-null   float64\n",
      "dtypes: float64(3), int64(4), object(6)\n",
      "memory usage: 716.0+ KB\n"
     ]
    }
   ],
   "source": [
    "df.info()\n",
    "#most of these columns are full, but total_charges appears to have some null values"
   ]
  },
  {
   "cell_type": "code",
   "execution_count": 35,
   "id": "4e73feb5",
   "metadata": {},
   "outputs": [
    {
     "name": "stdout",
     "output_type": "stream",
     "text": [
      "Replacing churned customers costs the company $374,000 a month\n",
      "This is $331,706 above industry average\n"
     ]
    }
   ],
   "source": [
    "#Customer acquisition cost (CAC) or subscriber acquisition cost (SAC) for telecom\n",
    "#Had a lot of troubles finding this data, the best I could find was from here: https://ipcarrier.blogspot.com/2015/12/in-most-competitive-markets-low-cost.html\n",
    "#Lists SAC ranging from $169 to $583 (for mobile service providers).  \n",
    "#will use a more conservative value of $200 for this\n",
    "#Ideally would get this info from the accounting or marketing office\n",
    "sac = 200\n",
    "ind_ch_rate = .03\n",
    "#if 3% churn is high side of normal, how much extra $$ are we losing out on?\n",
    "#monthly SAC to replace lost customers\n",
    "m_SAC = ch_rate * df.shape[0] * 200 #churn rate * num customers * SAC\n",
    "ind_m_SAC = 200*(ch_rate-ind_ch_rate)*df.shape[0]\n",
    "print(f'Replacing churned customers costs the company ${\"{:,.0f}\".format(m_SAC)} a month')\n",
    "print(f'This is ${\"{:,.0f}\".format(ind_m_SAC)} above industry average')"
   ]
  },
  {
   "cell_type": "markdown",
   "id": "b5bb1cb5",
   "metadata": {},
   "source": [
    "### Step 3 - Answer initial hypothesis questions and visualize"
   ]
  },
  {
   "cell_type": "code",
   "execution_count": 47,
   "id": "86bea8ec",
   "metadata": {},
   "outputs": [
    {
     "data": {
      "text/plain": [
       "<seaborn.axisgrid.FacetGrid at 0x7fbc095c3b50>"
      ]
     },
     "execution_count": 47,
     "metadata": {},
     "output_type": "execute_result"
    },
    {
     "data": {
      "image/png": "[encoded data removed]",
      "text/plain": [
       "<Figure size 432.125x360 with 1 Axes>"
      ]
     },
     "metadata": {
      "needs_background": "light"
     },
     "output_type": "display_data"
    }
   ],
   "source": [
    "#gender\n",
    "sns.displot(data=df,x='churn',hue='gender',multiple='dodge')"
   ]
  },
  {
   "cell_type": "code",
   "execution_count": 52,
   "id": "946b8e31",
   "metadata": {},
   "outputs": [],
   "source": [
    "#tenure\n",
    "#first lets get a round tenure column.  For this we will round down. (only want full months of tenure)\n",
    "df['full_tenure'] = df.tenure.apply(math.floor)"
   ]
  },
  {
   "cell_type": "code",
   "execution_count": 63,
   "id": "0cffe7bc",
   "metadata": {},
   "outputs": [
    {
     "data": {
      "text/plain": [
       "<seaborn.axisgrid.FacetGrid at 0x7fbc09e04610>"
      ]
     },
     "execution_count": 63,
     "metadata": {},
     "output_type": "execute_result"
    },
    {
     "data": {
      "image/png": "[encoded data removed]",
      "text/plain": [
       "<Figure size 412x360 with 1 Axes>"
      ]
     },
     "metadata": {
      "needs_background": "light"
     },
     "output_type": "display_data"
    }
   ],
   "source": [
    "#tenure con't\n",
    "sns.displot(data=df,x='tenure',hue='churn',multiple='fill')\n",
    "#This shows us that lower tenures have a higher churn rate.\n",
    "#USE"
   ]
  },
  {
   "cell_type": "code",
   "execution_count": null,
   "id": "5a3db4c1",
   "metadata": {},
   "outputs": [],
   "source": [
    "#alternatively, display this as a churn rate:\n",
    "#Create a new dataframe with list of months, total customers in each bucket, churn rate for each\n",
    "# df_m_tenure = \n",
    "\n",
    "#then create relplot"
   ]
  },
  {
   "cell_type": "code",
   "execution_count": null,
   "id": "f5a48e95",
   "metadata": {},
   "outputs": [],
   "source": [
    "#contract type\n"
   ]
  },
  {
   "cell_type": "code",
   "execution_count": null,
   "id": "cb1ea335",
   "metadata": {},
   "outputs": [],
   "source": [
    "#monthly charges"
   ]
  },
  {
   "cell_type": "code",
   "execution_count": null,
   "id": "b4bf7d3a",
   "metadata": {},
   "outputs": [],
   "source": []
  }
 ],
 "metadata": {
  "kernelspec": {
   "display_name": "Python 3 (ipykernel)",
   "language": "python",
   "name": "python3"
  },
  "language_info": {
   "codemirror_mode": {
    "name": "ipython",
    "version": 3
   },
   "file_extension": ".py",
   "mimetype": "text/x-python",
   "name": "python",
   "nbconvert_exporter": "python",
   "pygments_lexer": "ipython3",
   "version": "3.9.7"
  }
 },
 "nbformat": 4,
 "nbformat_minor": 5
}
